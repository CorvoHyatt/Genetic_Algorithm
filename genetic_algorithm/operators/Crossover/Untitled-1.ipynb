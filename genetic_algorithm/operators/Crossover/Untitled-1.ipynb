{
 "cells": [
  {
   "cell_type": "code",
   "execution_count": 1,
   "metadata": {},
   "outputs": [],
   "source": [
    "import random\n",
    "import numpy as np\n",
    "\n",
    "from genetic_algorithm.Individuals.individual import Individual\n",
    "\n",
    "\n",
    "population_selected = []\n",
    "for _ in range(2):\n",
    "    genotype = np.random.randint(\n",
    "        0, 2, size=(10,)\n",
    "    )  # Ejemplo de un genotipo aleatorio de tamaño 10\n",
    "    fitness_value = np.random.uniform(\n",
    "        0, 1\n",
    "    )  # Ejemplo de un valor de fitness aleatorio entre 0 y 1\n",
    "    individual = Individual(genotype)\n",
    "    individual.fitness = fitness_value\n",
    "    population_selected.append(individual)\n",
    "\n"
   ]
  },
  {
   "cell_type": "code",
   "execution_count": 2,
   "metadata": {},
   "outputs": [],
   "source": [
    "new_population = []\n",
    "for i in range(len(population_selected) - 1):\n",
    "\tparent1 = population_selected[i]\n",
    "\tparent2 = population_selected[i + 1]\n",
    "\tpoint1 = random.randint(0, len(parent1.genotype) - 2)\n",
    "\n",
    "\twhile True:\n",
    "\t\tpoint2 = random.randint(0, len(parent1.genotype) - 2)\n",
    "\t\tif point2 != point1:\n",
    "\t\t\tbreak\n",
    "\n",
    "\tstart_point = min(point1, point2) + 1\n",
    "\tend_point = max(point1, point2) + 2\n",
    "\tgenotype = [-1] * len(parent1.genotype)\n",
    "\tgenotype[start_point:end_point] = parent2.genotype[start_point:end_point]\n",
    "\tindex_gen = end_point\n",
    "\tindex_parent = index_gen\n",
    "\twhile index_gen != start_point:\n",
    "\n",
    "\t\tif parent1.genotype[index_parent] not in genotype:\n",
    "\t\t\tgenotype[index_gen] = parent1.genotype[index_parent]\n",
    "\t\t\tindex_parent = index_parent + 1\n",
    "\t\t\tindex_gen = index_gen + 1\n",
    "\t\telse:\n",
    "\t\t\tindex_parent = index_parent + 1\n",
    "\t\tif index_parent >= len(parent1.genotype):\n",
    "\t\t\tindex_parent = 0\n",
    "\t\tif index_gen >= len(parent1.genotype):\n",
    "\t\t\tindex_gen = 0\n",
    "\n",
    "\t# Creamos un nuevo individuo con el genotipo resultante\n",
    "\tchild = Individual(np.array(genotype))\n",
    "\tnew_population.append(child)"
   ]
  }
 ],
 "metadata": {
  "kernelspec": {
   "display_name": "Python 3",
   "language": "python",
   "name": "python3"
  },
  "language_info": {
   "codemirror_mode": {
    "name": "ipython",
    "version": 3
   },
   "file_extension": ".py",
   "mimetype": "text/x-python",
   "name": "python",
   "nbconvert_exporter": "python",
   "pygments_lexer": "ipython3",
   "version": "3.12.2"
  }
 },
 "nbformat": 4,
 "nbformat_minor": 2
}
